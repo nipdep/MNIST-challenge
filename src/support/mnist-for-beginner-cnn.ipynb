{
 "cells": [
  {
   "cell_type": "markdown",
   "metadata": {
    "papermill": {
     "duration": 0.012066,
     "end_time": "2021-02-01T11:13:45.479868",
     "exception": false,
     "start_time": "2021-02-01T11:13:45.467802",
     "status": "completed"
    },
    "tags": []
   },
   "source": [
    "# What experiment did I do?"
   ]
  },
  {
   "cell_type": "markdown",
   "metadata": {
    "papermill": {
     "duration": 0.010517,
     "end_time": "2021-02-01T11:13:45.523036",
     "exception": false,
     "start_time": "2021-02-01T11:13:45.512519",
     "status": "completed"
    },
    "tags": []
   },
   "source": [
    "# Import Libraries"
   ]
  },
  {
   "cell_type": "code",
   "execution_count": 1,
   "metadata": {
    "execution": {
     "iopub.execute_input": "2021-02-01T11:13:45.547913Z",
     "iopub.status.busy": "2021-02-01T11:13:45.547110Z",
     "iopub.status.idle": "2021-02-01T11:13:50.665580Z",
     "shell.execute_reply": "2021-02-01T11:13:50.664186Z"
    },
    "id": "e3G6LPQKGUJG",
    "papermill": {
     "duration": 5.131909,
     "end_time": "2021-02-01T11:13:50.665702",
     "exception": false,
     "start_time": "2021-02-01T11:13:45.533793",
     "status": "completed"
    },
    "tags": []
   },
   "outputs": [],
   "source": [
    "import numpy as np\n",
    "import pandas as pd\n",
    "import tensorflow as tf\n",
    "import random"
   ]
  },
  {
   "cell_type": "markdown",
   "metadata": {
    "papermill": {
     "duration": 0.011131,
     "end_time": "2021-02-01T11:13:50.688289",
     "exception": false,
     "start_time": "2021-02-01T11:13:50.677158",
     "status": "completed"
    },
    "tags": []
   },
   "source": [
    "# Image Load"
   ]
  },
  {
   "cell_type": "code",
   "execution_count": 2,
   "metadata": {
    "execution": {
     "iopub.execute_input": "2021-02-01T11:13:50.717451Z",
     "iopub.status.busy": "2021-02-01T11:13:50.716933Z",
     "iopub.status.idle": "2021-02-01T11:13:54.513153Z",
     "shell.execute_reply": "2021-02-01T11:13:54.512123Z"
    },
    "papermill": {
     "duration": 3.814049,
     "end_time": "2021-02-01T11:13:54.513331",
     "exception": false,
     "start_time": "2021-02-01T11:13:50.699282",
     "status": "completed"
    },
    "tags": []
   },
   "outputs": [],
   "source": [
    "mnist = pd.read_csv(\"../../data/datasets/train.csv\")"
   ]
  },
  {
   "cell_type": "code",
   "execution_count": 3,
   "metadata": {
    "execution": {
     "iopub.execute_input": "2021-02-01T11:13:54.541831Z",
     "iopub.status.busy": "2021-02-01T11:13:54.541292Z",
     "iopub.status.idle": "2021-02-01T11:13:54.546861Z",
     "shell.execute_reply": "2021-02-01T11:13:54.546383Z"
    },
    "papermill": {
     "duration": 0.021775,
     "end_time": "2021-02-01T11:13:54.546944",
     "exception": false,
     "start_time": "2021-02-01T11:13:54.525169",
     "status": "completed"
    },
    "tags": []
   },
   "outputs": [],
   "source": [
    "y = mnist.iloc[:, 0].values\n",
    "x = mnist.iloc[:, 1:].values\n",
    "#split target value and image"
   ]
  },
  {
   "cell_type": "code",
   "execution_count": 4,
   "metadata": {
    "execution": {
     "iopub.execute_input": "2021-02-01T11:13:54.574480Z",
     "iopub.status.busy": "2021-02-01T11:13:54.573880Z",
     "iopub.status.idle": "2021-02-01T11:13:55.702257Z",
     "shell.execute_reply": "2021-02-01T11:13:55.701784Z"
    },
    "id": "ipqdgtu3GWqF",
    "papermill": {
     "duration": 1.143884,
     "end_time": "2021-02-01T11:13:55.702365",
     "exception": false,
     "start_time": "2021-02-01T11:13:54.558481",
     "status": "completed"
    },
    "tags": []
   },
   "outputs": [],
   "source": [
    "from sklearn.model_selection import train_test_split\n",
    "\n",
    "x_train, x_test, y_train, y_test = train_test_split(x, y, test_size=0.3)\n",
    "#make valid set"
   ]
  },
  {
   "cell_type": "code",
   "execution_count": 5,
   "metadata": {
    "execution": {
     "iopub.execute_input": "2021-02-01T11:13:55.733167Z",
     "iopub.status.busy": "2021-02-01T11:13:55.732150Z",
     "iopub.status.idle": "2021-02-01T11:13:55.837430Z",
     "shell.execute_reply": "2021-02-01T11:13:55.836804Z"
    },
    "papermill": {
     "duration": 0.122865,
     "end_time": "2021-02-01T11:13:55.837573",
     "exception": false,
     "start_time": "2021-02-01T11:13:55.714708",
     "status": "completed"
    },
    "tags": []
   },
   "outputs": [],
   "source": [
    "x_test = x_test / 255\n",
    "x_train = x_train / 255\n",
    "x_train = x_train.reshape(x_train.shape[0], 28, 28, 1)\n",
    "x_test = x_test.reshape(x_test.shape[0], 28, 28, 1)\n",
    "#normalization"
   ]
  },
  {
   "cell_type": "code",
   "execution_count": 6,
   "metadata": {
    "execution": {
     "iopub.execute_input": "2021-02-01T11:13:55.867066Z",
     "iopub.status.busy": "2021-02-01T11:13:55.865889Z",
     "iopub.status.idle": "2021-02-01T11:13:55.869695Z",
     "shell.execute_reply": "2021-02-01T11:13:55.869177Z"
    },
    "papermill": {
     "duration": 0.020103,
     "end_time": "2021-02-01T11:13:55.869791",
     "exception": false,
     "start_time": "2021-02-01T11:13:55.849688",
     "status": "completed"
    },
    "tags": []
   },
   "outputs": [],
   "source": [
    "y_train = tf.keras.utils.to_categorical(y_train, 10)\n",
    "y_test = tf.keras.utils.to_categorical(y_test, 10)\n",
    "#example  3 traget value   to    [0,0,0,1,0,0,0,0,0,0]\n",
    "#one hot encoding"
   ]
  },
  {
   "cell_type": "code",
   "execution_count": 7,
   "metadata": {
    "execution": {
     "iopub.execute_input": "2021-02-01T11:13:55.898968Z",
     "iopub.status.busy": "2021-02-01T11:13:55.897327Z",
     "iopub.status.idle": "2021-02-01T11:13:55.899744Z",
     "shell.execute_reply": "2021-02-01T11:13:55.900156Z"
    },
    "id": "5ljl306OGc6z",
    "papermill": {
     "duration": 0.018538,
     "end_time": "2021-02-01T11:13:55.900256",
     "exception": false,
     "start_time": "2021-02-01T11:13:55.881718",
     "status": "completed"
    },
    "tags": []
   },
   "outputs": [],
   "source": [
    "learning_rate = 0.00062"
   ]
  },
  {
   "cell_type": "code",
   "execution_count": 8,
   "metadata": {
    "execution": {
     "iopub.execute_input": "2021-02-01T11:13:55.935833Z",
     "iopub.status.busy": "2021-02-01T11:13:55.935296Z",
     "iopub.status.idle": "2021-02-01T11:13:58.770721Z",
     "shell.execute_reply": "2021-02-01T11:13:58.770232Z"
    },
    "id": "2zpwWgByGkch",
    "papermill": {
     "duration": 2.857726,
     "end_time": "2021-02-01T11:13:58.770822",
     "exception": false,
     "start_time": "2021-02-01T11:13:55.913096",
     "status": "completed"
    },
    "tags": []
   },
   "outputs": [
    {
     "output_type": "stream",
     "name": "stdout",
     "text": [
      "Model: \"sequential\"\n_________________________________________________________________\nLayer (type)                 Output Shape              Param #   \n=================================================================\nconv2d (Conv2D)              (None, 28, 28, 20)        200       \n_________________________________________________________________\nconv2d_1 (Conv2D)            (None, 28, 28, 62)        11222     \n_________________________________________________________________\ndropout (Dropout)            (None, 28, 28, 62)        0         \n_________________________________________________________________\nmax_pooling2d (MaxPooling2D) (None, 9, 9, 62)          0         \n_________________________________________________________________\nconv2d_2 (Conv2D)            (None, 9, 9, 62)          34658     \n_________________________________________________________________\ndropout_1 (Dropout)          (None, 9, 9, 62)          0         \n_________________________________________________________________\nmax_pooling2d_1 (MaxPooling2 (None, 3, 3, 62)          0         \n_________________________________________________________________\nconv2d_3 (Conv2D)            (None, 3, 3, 62)          34658     \n_________________________________________________________________\ndropout_2 (Dropout)          (None, 3, 3, 62)          0         \n_________________________________________________________________\nmax_pooling2d_2 (MaxPooling2 (None, 1, 1, 62)          0         \n_________________________________________________________________\nflatten (Flatten)            (None, 62)                0         \n_________________________________________________________________\ndense (Dense)                (None, 62)                3906      \n_________________________________________________________________\ndense_1 (Dense)              (None, 10)                630       \n=================================================================\nTotal params: 85,274\nTrainable params: 85,274\nNon-trainable params: 0\n_________________________________________________________________\n"
     ]
    }
   ],
   "source": [
    "model = tf.keras.Sequential()\n",
    "model.add(tf.keras.layers.Conv2D(filters=20, kernel_size=(3, 3), input_shape=(28,28,1),activation='relu',kernel_initializer='glorot_uniform',padding=\"same\"))\n",
    "for a in range(3):\n",
    "    model.add(tf.keras.layers.Conv2D(filters=62, kernel_size=(3, 3), activation='relu',kernel_initializer='glorot_uniform',padding=\"same\"))\n",
    "    model.add(tf.keras.layers.Dropout(0.38))\n",
    "    model.add(tf.keras.layers.MaxPooling2D(pool_size=(3, 3)))\n",
    "model.add(tf.keras.layers.Flatten())\n",
    "model.add(tf.keras.layers.Dense(units=62, kernel_initializer='glorot_normal', activation='relu'))\n",
    "model.add(tf.keras.layers.Dense(units=10, kernel_initializer='glorot_normal', activation='softmax'))\n",
    "model.summary()\n",
    "#it is make by experiment"
   ]
  },
  {
   "cell_type": "code",
   "execution_count": 9,
   "metadata": {
    "execution": {
     "iopub.execute_input": "2021-02-01T11:13:58.807894Z",
     "iopub.status.busy": "2021-02-01T11:13:58.806571Z",
     "iopub.status.idle": "2021-02-01T11:13:58.813115Z",
     "shell.execute_reply": "2021-02-01T11:13:58.812699Z"
    },
    "id": "Lc-bCtb7G0_y",
    "papermill": {
     "duration": 0.028533,
     "end_time": "2021-02-01T11:13:58.813204",
     "exception": false,
     "start_time": "2021-02-01T11:13:58.784671",
     "status": "completed"
    },
    "tags": []
   },
   "outputs": [],
   "source": [
    "model.compile(loss='categorical_crossentropy', optimizer=tf.keras.optimizers.RMSprop(lr=learning_rate), metrics=['accuracy'])\n",
    "#adam and RMSprop but experiment said \"rmsprop is a little little very little better\""
   ]
  },
  {
   "cell_type": "code",
   "execution_count": 10,
   "metadata": {
    "execution": {
     "iopub.execute_input": "2021-02-01T11:13:58.841748Z",
     "iopub.status.busy": "2021-02-01T11:13:58.841180Z",
     "iopub.status.idle": "2021-02-01T11:13:58.845011Z",
     "shell.execute_reply": "2021-02-01T11:13:58.844302Z"
    },
    "papermill": {
     "duration": 0.019593,
     "end_time": "2021-02-01T11:13:58.845104",
     "exception": false,
     "start_time": "2021-02-01T11:13:58.825511",
     "status": "completed"
    },
    "tags": []
   },
   "outputs": [],
   "source": [
    "callbacks = tf.keras.callbacks.ModelCheckpoint(filepath='model.h5', monitor='val_loss', save_best_only=True),\n",
    "            #tf.keras.callbacks.EarlyStopping(monitor='val_loss', patience = 30, verbose=1)]\n",
    "#i used to ealrystopping but ModelCheckpoint is more better\n",
    "#i think because it's too small scale to overfit"
   ]
  },
  {
   "cell_type": "code",
   "execution_count": 11,
   "metadata": {
    "execution": {
     "iopub.execute_input": "2021-02-01T11:13:58.874078Z",
     "iopub.status.busy": "2021-02-01T11:13:58.873539Z",
     "iopub.status.idle": "2021-02-01T11:33:27.191579Z",
     "shell.execute_reply": "2021-02-01T11:33:27.192013Z"
    },
    "id": "KmX_uLDlG2ks",
    "papermill": {
     "duration": 1168.334757,
     "end_time": "2021-02-01T11:33:27.192167",
     "exception": false,
     "start_time": "2021-02-01T11:13:58.857410",
     "status": "completed"
    },
    "tags": []
   },
   "outputs": [
    {
     "output_type": "stream",
     "name": "stdout",
     "text": [
      "Epoch 1/620\n",
      "294/294 - 59s - loss: 0.7478 - accuracy: 0.7538 - val_loss: 0.5919 - val_accuracy: 0.9422\n",
      "Epoch 2/620\n"
     ]
    },
    {
     "output_type": "error",
     "ename": "KeyboardInterrupt",
     "evalue": "",
     "traceback": [
      "\u001b[1;31m---------------------------------------------------------------------------\u001b[0m",
      "\u001b[1;31mKeyboardInterrupt\u001b[0m                         Traceback (most recent call last)",
      "\u001b[1;32m<ipython-input-11-079bbaf03475>\u001b[0m in \u001b[0;36m<module>\u001b[1;34m\u001b[0m\n\u001b[1;32m----> 1\u001b[1;33m \u001b[0mhistory\u001b[0m \u001b[1;33m=\u001b[0m \u001b[0mmodel\u001b[0m\u001b[1;33m.\u001b[0m\u001b[0mfit\u001b[0m\u001b[1;33m(\u001b[0m\u001b[0mx_train\u001b[0m\u001b[1;33m,\u001b[0m \u001b[0my_train\u001b[0m\u001b[1;33m,\u001b[0m \u001b[0mbatch_size\u001b[0m\u001b[1;33m=\u001b[0m\u001b[1;36m100\u001b[0m\u001b[1;33m,\u001b[0m \u001b[0mepochs\u001b[0m\u001b[1;33m=\u001b[0m\u001b[1;36m620\u001b[0m\u001b[1;33m,\u001b[0m\u001b[0mvalidation_data\u001b[0m \u001b[1;33m=\u001b[0m\u001b[1;33m(\u001b[0m\u001b[0mx_test\u001b[0m\u001b[1;33m,\u001b[0m\u001b[0my_test\u001b[0m\u001b[1;33m)\u001b[0m\u001b[1;33m,\u001b[0m\u001b[0mcallbacks\u001b[0m\u001b[1;33m=\u001b[0m\u001b[0mcallbacks\u001b[0m\u001b[1;33m,\u001b[0m\u001b[0mverbose\u001b[0m\u001b[1;33m=\u001b[0m\u001b[1;36m2\u001b[0m\u001b[1;33m)\u001b[0m\u001b[1;33m\u001b[0m\u001b[1;33m\u001b[0m\u001b[0m\n\u001b[0m\u001b[0;32m      2\u001b[0m \u001b[1;31m#why 620?\u001b[0m\u001b[1;33m\u001b[0m\u001b[1;33m\u001b[0m\u001b[1;33m\u001b[0m\u001b[0m\n\u001b[0;32m      3\u001b[0m \u001b[1;31m#because its my birthday\u001b[0m\u001b[1;33m\u001b[0m\u001b[1;33m\u001b[0m\u001b[1;33m\u001b[0m\u001b[0m\n",
      "\u001b[1;32mf:\\JetBrain Project Files\\Pycharm\\Datathon-Final\\.virtualenv\\lib\\site-packages\\tensorflow\\python\\keras\\engine\\training.py\u001b[0m in \u001b[0;36mfit\u001b[1;34m(self, x, y, batch_size, epochs, verbose, callbacks, validation_split, validation_data, shuffle, class_weight, sample_weight, initial_epoch, steps_per_epoch, validation_steps, validation_batch_size, validation_freq, max_queue_size, workers, use_multiprocessing)\u001b[0m\n\u001b[0;32m   1098\u001b[0m                 _r=1):\n\u001b[0;32m   1099\u001b[0m               \u001b[0mcallbacks\u001b[0m\u001b[1;33m.\u001b[0m\u001b[0mon_train_batch_begin\u001b[0m\u001b[1;33m(\u001b[0m\u001b[0mstep\u001b[0m\u001b[1;33m)\u001b[0m\u001b[1;33m\u001b[0m\u001b[1;33m\u001b[0m\u001b[0m\n\u001b[1;32m-> 1100\u001b[1;33m               \u001b[0mtmp_logs\u001b[0m \u001b[1;33m=\u001b[0m \u001b[0mself\u001b[0m\u001b[1;33m.\u001b[0m\u001b[0mtrain_function\u001b[0m\u001b[1;33m(\u001b[0m\u001b[0miterator\u001b[0m\u001b[1;33m)\u001b[0m\u001b[1;33m\u001b[0m\u001b[1;33m\u001b[0m\u001b[0m\n\u001b[0m\u001b[0;32m   1101\u001b[0m               \u001b[1;32mif\u001b[0m \u001b[0mdata_handler\u001b[0m\u001b[1;33m.\u001b[0m\u001b[0mshould_sync\u001b[0m\u001b[1;33m:\u001b[0m\u001b[1;33m\u001b[0m\u001b[1;33m\u001b[0m\u001b[0m\n\u001b[0;32m   1102\u001b[0m                 \u001b[0mcontext\u001b[0m\u001b[1;33m.\u001b[0m\u001b[0masync_wait\u001b[0m\u001b[1;33m(\u001b[0m\u001b[1;33m)\u001b[0m\u001b[1;33m\u001b[0m\u001b[1;33m\u001b[0m\u001b[0m\n",
      "\u001b[1;32mf:\\JetBrain Project Files\\Pycharm\\Datathon-Final\\.virtualenv\\lib\\site-packages\\tensorflow\\python\\eager\\def_function.py\u001b[0m in \u001b[0;36m__call__\u001b[1;34m(self, *args, **kwds)\u001b[0m\n\u001b[0;32m    826\u001b[0m     \u001b[0mtracing_count\u001b[0m \u001b[1;33m=\u001b[0m \u001b[0mself\u001b[0m\u001b[1;33m.\u001b[0m\u001b[0mexperimental_get_tracing_count\u001b[0m\u001b[1;33m(\u001b[0m\u001b[1;33m)\u001b[0m\u001b[1;33m\u001b[0m\u001b[1;33m\u001b[0m\u001b[0m\n\u001b[0;32m    827\u001b[0m     \u001b[1;32mwith\u001b[0m \u001b[0mtrace\u001b[0m\u001b[1;33m.\u001b[0m\u001b[0mTrace\u001b[0m\u001b[1;33m(\u001b[0m\u001b[0mself\u001b[0m\u001b[1;33m.\u001b[0m\u001b[0m_name\u001b[0m\u001b[1;33m)\u001b[0m \u001b[1;32mas\u001b[0m \u001b[0mtm\u001b[0m\u001b[1;33m:\u001b[0m\u001b[1;33m\u001b[0m\u001b[1;33m\u001b[0m\u001b[0m\n\u001b[1;32m--> 828\u001b[1;33m       \u001b[0mresult\u001b[0m \u001b[1;33m=\u001b[0m \u001b[0mself\u001b[0m\u001b[1;33m.\u001b[0m\u001b[0m_call\u001b[0m\u001b[1;33m(\u001b[0m\u001b[1;33m*\u001b[0m\u001b[0margs\u001b[0m\u001b[1;33m,\u001b[0m \u001b[1;33m**\u001b[0m\u001b[0mkwds\u001b[0m\u001b[1;33m)\u001b[0m\u001b[1;33m\u001b[0m\u001b[1;33m\u001b[0m\u001b[0m\n\u001b[0m\u001b[0;32m    829\u001b[0m       \u001b[0mcompiler\u001b[0m \u001b[1;33m=\u001b[0m \u001b[1;34m\"xla\"\u001b[0m \u001b[1;32mif\u001b[0m \u001b[0mself\u001b[0m\u001b[1;33m.\u001b[0m\u001b[0m_experimental_compile\u001b[0m \u001b[1;32melse\u001b[0m \u001b[1;34m\"nonXla\"\u001b[0m\u001b[1;33m\u001b[0m\u001b[1;33m\u001b[0m\u001b[0m\n\u001b[0;32m    830\u001b[0m       \u001b[0mnew_tracing_count\u001b[0m \u001b[1;33m=\u001b[0m \u001b[0mself\u001b[0m\u001b[1;33m.\u001b[0m\u001b[0mexperimental_get_tracing_count\u001b[0m\u001b[1;33m(\u001b[0m\u001b[1;33m)\u001b[0m\u001b[1;33m\u001b[0m\u001b[1;33m\u001b[0m\u001b[0m\n",
      "\u001b[1;32mf:\\JetBrain Project Files\\Pycharm\\Datathon-Final\\.virtualenv\\lib\\site-packages\\tensorflow\\python\\eager\\def_function.py\u001b[0m in \u001b[0;36m_call\u001b[1;34m(self, *args, **kwds)\u001b[0m\n\u001b[0;32m    853\u001b[0m       \u001b[1;31m# In this case we have created variables on the first call, so we run the\u001b[0m\u001b[1;33m\u001b[0m\u001b[1;33m\u001b[0m\u001b[1;33m\u001b[0m\u001b[0m\n\u001b[0;32m    854\u001b[0m       \u001b[1;31m# defunned version which is guaranteed to never create variables.\u001b[0m\u001b[1;33m\u001b[0m\u001b[1;33m\u001b[0m\u001b[1;33m\u001b[0m\u001b[0m\n\u001b[1;32m--> 855\u001b[1;33m       \u001b[1;32mreturn\u001b[0m \u001b[0mself\u001b[0m\u001b[1;33m.\u001b[0m\u001b[0m_stateless_fn\u001b[0m\u001b[1;33m(\u001b[0m\u001b[1;33m*\u001b[0m\u001b[0margs\u001b[0m\u001b[1;33m,\u001b[0m \u001b[1;33m**\u001b[0m\u001b[0mkwds\u001b[0m\u001b[1;33m)\u001b[0m  \u001b[1;31m# pylint: disable=not-callable\u001b[0m\u001b[1;33m\u001b[0m\u001b[1;33m\u001b[0m\u001b[0m\n\u001b[0m\u001b[0;32m    856\u001b[0m     \u001b[1;32melif\u001b[0m \u001b[0mself\u001b[0m\u001b[1;33m.\u001b[0m\u001b[0m_stateful_fn\u001b[0m \u001b[1;32mis\u001b[0m \u001b[1;32mnot\u001b[0m \u001b[1;32mNone\u001b[0m\u001b[1;33m:\u001b[0m\u001b[1;33m\u001b[0m\u001b[1;33m\u001b[0m\u001b[0m\n\u001b[0;32m    857\u001b[0m       \u001b[1;31m# Release the lock early so that multiple threads can perform the call\u001b[0m\u001b[1;33m\u001b[0m\u001b[1;33m\u001b[0m\u001b[1;33m\u001b[0m\u001b[0m\n",
      "\u001b[1;32mf:\\JetBrain Project Files\\Pycharm\\Datathon-Final\\.virtualenv\\lib\\site-packages\\tensorflow\\python\\eager\\function.py\u001b[0m in \u001b[0;36m__call__\u001b[1;34m(self, *args, **kwargs)\u001b[0m\n\u001b[0;32m   2941\u001b[0m        filtered_flat_args) = self._maybe_define_function(args, kwargs)\n\u001b[0;32m   2942\u001b[0m     return graph_function._call_flat(\n\u001b[1;32m-> 2943\u001b[1;33m         filtered_flat_args, captured_inputs=graph_function.captured_inputs)  # pylint: disable=protected-access\n\u001b[0m\u001b[0;32m   2944\u001b[0m \u001b[1;33m\u001b[0m\u001b[0m\n\u001b[0;32m   2945\u001b[0m   \u001b[1;33m@\u001b[0m\u001b[0mproperty\u001b[0m\u001b[1;33m\u001b[0m\u001b[1;33m\u001b[0m\u001b[0m\n",
      "\u001b[1;32mf:\\JetBrain Project Files\\Pycharm\\Datathon-Final\\.virtualenv\\lib\\site-packages\\tensorflow\\python\\eager\\function.py\u001b[0m in \u001b[0;36m_call_flat\u001b[1;34m(self, args, captured_inputs, cancellation_manager)\u001b[0m\n\u001b[0;32m   1917\u001b[0m       \u001b[1;31m# No tape is watching; skip to running the function.\u001b[0m\u001b[1;33m\u001b[0m\u001b[1;33m\u001b[0m\u001b[1;33m\u001b[0m\u001b[0m\n\u001b[0;32m   1918\u001b[0m       return self._build_call_outputs(self._inference_function.call(\n\u001b[1;32m-> 1919\u001b[1;33m           ctx, args, cancellation_manager=cancellation_manager))\n\u001b[0m\u001b[0;32m   1920\u001b[0m     forward_backward = self._select_forward_and_backward_functions(\n\u001b[0;32m   1921\u001b[0m         \u001b[0margs\u001b[0m\u001b[1;33m,\u001b[0m\u001b[1;33m\u001b[0m\u001b[1;33m\u001b[0m\u001b[0m\n",
      "\u001b[1;32mf:\\JetBrain Project Files\\Pycharm\\Datathon-Final\\.virtualenv\\lib\\site-packages\\tensorflow\\python\\eager\\function.py\u001b[0m in \u001b[0;36mcall\u001b[1;34m(self, ctx, args, cancellation_manager)\u001b[0m\n\u001b[0;32m    558\u001b[0m               \u001b[0minputs\u001b[0m\u001b[1;33m=\u001b[0m\u001b[0margs\u001b[0m\u001b[1;33m,\u001b[0m\u001b[1;33m\u001b[0m\u001b[1;33m\u001b[0m\u001b[0m\n\u001b[0;32m    559\u001b[0m               \u001b[0mattrs\u001b[0m\u001b[1;33m=\u001b[0m\u001b[0mattrs\u001b[0m\u001b[1;33m,\u001b[0m\u001b[1;33m\u001b[0m\u001b[1;33m\u001b[0m\u001b[0m\n\u001b[1;32m--> 560\u001b[1;33m               ctx=ctx)\n\u001b[0m\u001b[0;32m    561\u001b[0m         \u001b[1;32melse\u001b[0m\u001b[1;33m:\u001b[0m\u001b[1;33m\u001b[0m\u001b[1;33m\u001b[0m\u001b[0m\n\u001b[0;32m    562\u001b[0m           outputs = execute.execute_with_cancellation(\n",
      "\u001b[1;32mf:\\JetBrain Project Files\\Pycharm\\Datathon-Final\\.virtualenv\\lib\\site-packages\\tensorflow\\python\\eager\\execute.py\u001b[0m in \u001b[0;36mquick_execute\u001b[1;34m(op_name, num_outputs, inputs, attrs, ctx, name)\u001b[0m\n\u001b[0;32m     58\u001b[0m     \u001b[0mctx\u001b[0m\u001b[1;33m.\u001b[0m\u001b[0mensure_initialized\u001b[0m\u001b[1;33m(\u001b[0m\u001b[1;33m)\u001b[0m\u001b[1;33m\u001b[0m\u001b[1;33m\u001b[0m\u001b[0m\n\u001b[0;32m     59\u001b[0m     tensors = pywrap_tfe.TFE_Py_Execute(ctx._handle, device_name, op_name,\n\u001b[1;32m---> 60\u001b[1;33m                                         inputs, attrs, num_outputs)\n\u001b[0m\u001b[0;32m     61\u001b[0m   \u001b[1;32mexcept\u001b[0m \u001b[0mcore\u001b[0m\u001b[1;33m.\u001b[0m\u001b[0m_NotOkStatusException\u001b[0m \u001b[1;32mas\u001b[0m \u001b[0me\u001b[0m\u001b[1;33m:\u001b[0m\u001b[1;33m\u001b[0m\u001b[1;33m\u001b[0m\u001b[0m\n\u001b[0;32m     62\u001b[0m     \u001b[1;32mif\u001b[0m \u001b[0mname\u001b[0m \u001b[1;32mis\u001b[0m \u001b[1;32mnot\u001b[0m \u001b[1;32mNone\u001b[0m\u001b[1;33m:\u001b[0m\u001b[1;33m\u001b[0m\u001b[1;33m\u001b[0m\u001b[0m\n",
      "\u001b[1;31mKeyboardInterrupt\u001b[0m: "
     ]
    }
   ],
   "source": [
    "history = model.fit(x_train, y_train, batch_size=100, epochs=620,validation_data =(x_test,y_test),callbacks=callbacks,verbose=2)\n",
    "#why 620?\n",
    "#because its my birthday"
   ]
  },
  {
   "cell_type": "code",
   "execution_count": 12,
   "metadata": {
    "execution": {
     "iopub.execute_input": "2021-02-01T11:33:27.904832Z",
     "iopub.status.busy": "2021-02-01T11:33:27.904262Z",
     "iopub.status.idle": "2021-02-01T11:33:28.269451Z",
     "shell.execute_reply": "2021-02-01T11:33:28.268661Z"
    },
    "papermill": {
     "duration": 0.728281,
     "end_time": "2021-02-01T11:33:28.269570",
     "exception": false,
     "start_time": "2021-02-01T11:33:27.541289",
     "status": "completed"
    },
    "tags": []
   },
   "outputs": [
    {
     "data": {
      "image/png": "[encoded data removed]",
      "text/plain": [
       "<Figure size 432x288 with 1 Axes>"
      ]
     },
     "metadata": {
      "needs_background": "light"
     },
     "output_type": "display_data"
    },
    {
     "data": {
      "image/png": "[encoded data removed]",
      "text/plain": [
       "<Figure size 432x288 with 1 Axes>"
      ]
     },
     "metadata": {
      "needs_background": "light"
     },
     "output_type": "display_data"
    }
   ],
   "source": [
    "history_frame = pd.DataFrame(history.history)\n",
    "history_frame.loc[:, ['loss', 'val_loss']].plot()\n",
    "history_frame.loc[:, ['accuracy', 'val_accuracy']].plot();\n",
    "#check the overfitting"
   ]
  },
  {
   "cell_type": "code",
   "execution_count": 13,
   "metadata": {
    "execution": {
     "iopub.execute_input": "2021-02-01T11:33:29.274415Z",
     "iopub.status.busy": "2021-02-01T11:33:29.273122Z",
     "iopub.status.idle": "2021-02-01T11:33:29.288147Z",
     "shell.execute_reply": "2021-02-01T11:33:29.287700Z"
    },
    "papermill": {
     "duration": 0.475153,
     "end_time": "2021-02-01T11:33:29.288239",
     "exception": false,
     "start_time": "2021-02-01T11:33:28.813086",
     "status": "completed"
    },
    "tags": []
   },
   "outputs": [],
   "source": [
    "y_train = tf.keras.utils.to_categorical(y_train, 10)\n",
    "y_test = tf.keras.utils.to_categorical(y_test, 10)\n",
    "#one hot enciding"
   ]
  },
  {
   "cell_type": "markdown",
   "metadata": {
    "papermill": {
     "duration": 0.354824,
     "end_time": "2021-02-01T11:33:30.003017",
     "exception": false,
     "start_time": "2021-02-01T11:33:29.648193",
     "status": "completed"
    },
    "tags": []
   },
   "source": [
    "# submission"
   ]
  },
  {
   "cell_type": "code",
   "execution_count": 14,
   "metadata": {
    "execution": {
     "iopub.execute_input": "2021-02-01T11:33:30.715300Z",
     "iopub.status.busy": "2021-02-01T11:33:30.714386Z",
     "iopub.status.idle": "2021-02-01T11:33:30.848485Z",
     "shell.execute_reply": "2021-02-01T11:33:30.847526Z"
    },
    "papermill": {
     "duration": 0.495469,
     "end_time": "2021-02-01T11:33:30.848603",
     "exception": false,
     "start_time": "2021-02-01T11:33:30.353134",
     "status": "completed"
    },
    "tags": []
   },
   "outputs": [],
   "source": [
    "model = tf.keras.models.load_model('./model.h5') \n",
    "#use ModelCheckpoint"
   ]
  },
  {
   "cell_type": "code",
   "execution_count": 15,
   "metadata": {
    "execution": {
     "iopub.execute_input": "2021-02-01T11:33:31.589746Z",
     "iopub.status.busy": "2021-02-01T11:33:31.589184Z",
     "iopub.status.idle": "2021-02-01T11:33:34.783868Z",
     "shell.execute_reply": "2021-02-01T11:33:34.782879Z"
    },
    "papermill": {
     "duration": 3.565895,
     "end_time": "2021-02-01T11:33:34.783981",
     "exception": false,
     "start_time": "2021-02-01T11:33:31.218086",
     "status": "completed"
    },
    "tags": []
   },
   "outputs": [],
   "source": [
    "test = pd.read_csv(\"/kaggle/input/digit-recognizer/test.csv\").values\n",
    "test = test.reshape(-1, 28, 28, 1).astype('float32') / 255.0\n",
    "y_pred = model.predict(test).argmax(axis=1)\n",
    "#predict"
   ]
  },
  {
   "cell_type": "code",
   "execution_count": 16,
   "metadata": {
    "execution": {
     "iopub.execute_input": "2021-02-01T11:33:35.495919Z",
     "iopub.status.busy": "2021-02-01T11:33:35.494946Z",
     "iopub.status.idle": "2021-02-01T11:33:35.753761Z",
     "shell.execute_reply": "2021-02-01T11:33:35.752667Z"
    },
    "papermill": {
     "duration": 0.615335,
     "end_time": "2021-02-01T11:33:35.753888",
     "exception": false,
     "start_time": "2021-02-01T11:33:35.138553",
     "status": "completed"
    },
    "tags": []
   },
   "outputs": [],
   "source": [
    "submission = pd.DataFrame({'ImageId': np.arange(1, 28001), 'Label': y_pred})\n",
    "submission.to_csv(\"submissionmax.csv\", index = False)\n",
    "#to_csv"
   ]
  }
 ],
 "metadata": {
  "kernelspec": {
   "display_name": "Python 3",
   "language": "python",
   "name": "python3"
  },
  "language_info": {
   "codemirror_mode": {
    "name": "ipython",
    "version": 3
   },
   "file_extension": ".py",
   "mimetype": "text/x-python",
   "name": "python",
   "nbconvert_exporter": "python",
   "pygments_lexer": "ipython3",
   "version": "3.7.7-final"
  },
  "papermill": {
   "duration": 1196.19614,
   "end_time": "2021-02-01T11:33:37.600037",
   "environment_variables": {},
   "exception": null,
   "input_path": "__notebook__.ipynb",
   "output_path": "__notebook__.ipynb",
   "parameters": {},
   "start_time": "2021-02-01T11:13:41.403897",
   "version": "2.1.0"
  }
 },
 "nbformat": 4,
 "nbformat_minor": 4
}